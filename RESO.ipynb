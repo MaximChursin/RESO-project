{
 "cells": [
  {
   "cell_type": "markdown",
   "id": "178e555d",
   "metadata": {},
   "source": [
    "# Этап 1. \n",
    "### Загрузка и проверка данных"
   ]
  },
  {
   "cell_type": "code",
   "execution_count": 1,
   "id": "659106bb",
   "metadata": {},
   "outputs": [],
   "source": [
    "# импорт необходимых библиотек\n",
    "import pandas as pd\n",
    "import numpy as np\n",
    "import seaborn as sns\n",
    "import matplotlib.pyplot as plt"
   ]
  },
  {
   "cell_type": "code",
   "execution_count": 2,
   "id": "ec638ac6",
   "metadata": {},
   "outputs": [
    {
     "data": {
      "text/html": [
       "<div>\n",
       "<style scoped>\n",
       "    .dataframe tbody tr th:only-of-type {\n",
       "        vertical-align: middle;\n",
       "    }\n",
       "\n",
       "    .dataframe tbody tr th {\n",
       "        vertical-align: top;\n",
       "    }\n",
       "\n",
       "    .dataframe thead th {\n",
       "        text-align: right;\n",
       "    }\n",
       "</style>\n",
       "<table border=\"1\" class=\"dataframe\">\n",
       "  <thead>\n",
       "    <tr style=\"text-align: right;\">\n",
       "      <th></th>\n",
       "      <th>POLICY_ID</th>\n",
       "      <th>POLICY_BEGIN_MONTH</th>\n",
       "      <th>POLICY_END_MONTH</th>\n",
       "      <th>POLICY_MIN_AGE</th>\n",
       "      <th>POLICY_MIN_DRIVING_EXPERIENCE</th>\n",
       "      <th>VEHICLE_MAKE</th>\n",
       "      <th>VEHICLE_MODEL</th>\n",
       "      <th>VEHICLE_ENGINE_POWER</th>\n",
       "      <th>VEHICLE_IN_CREDIT</th>\n",
       "      <th>VEHICLE_SUM_INSURED</th>\n",
       "      <th>...</th>\n",
       "      <th>INSURER_GENDER</th>\n",
       "      <th>POLICY_CLM_N</th>\n",
       "      <th>POLICY_CLM_GLT_N</th>\n",
       "      <th>CLIENT_HAS_DAGO</th>\n",
       "      <th>CLIENT_HAS_OSAGO</th>\n",
       "      <th>POLICY_HAS_COMPLAINTS</th>\n",
       "      <th>POLICY_YEARS_RENEWED_N</th>\n",
       "      <th>POLICY_DEDUCT_VALUE</th>\n",
       "      <th>CLIENT_REGISTRATION_REGION</th>\n",
       "      <th>POLICY_PRICE_CHANGE</th>\n",
       "    </tr>\n",
       "  </thead>\n",
       "  <tbody>\n",
       "    <tr>\n",
       "      <th>0</th>\n",
       "      <td>82937</td>\n",
       "      <td>8</td>\n",
       "      <td>8</td>\n",
       "      <td>41</td>\n",
       "      <td>5</td>\n",
       "      <td>Ford</td>\n",
       "      <td>Kuga</td>\n",
       "      <td>150.0</td>\n",
       "      <td>0</td>\n",
       "      <td>1000000.0</td>\n",
       "      <td>...</td>\n",
       "      <td>F</td>\n",
       "      <td>0</td>\n",
       "      <td>0</td>\n",
       "      <td>0</td>\n",
       "      <td>1</td>\n",
       "      <td>1</td>\n",
       "      <td>0</td>\n",
       "      <td>20000.0</td>\n",
       "      <td>Оренбургская область</td>\n",
       "      <td>-0.04</td>\n",
       "    </tr>\n",
       "    <tr>\n",
       "      <th>1</th>\n",
       "      <td>60630</td>\n",
       "      <td>8</td>\n",
       "      <td>8</td>\n",
       "      <td>32</td>\n",
       "      <td>1994</td>\n",
       "      <td>Hyundai</td>\n",
       "      <td>i40</td>\n",
       "      <td>178.0</td>\n",
       "      <td>0</td>\n",
       "      <td>1315000.0</td>\n",
       "      <td>...</td>\n",
       "      <td>M</td>\n",
       "      <td>1</td>\n",
       "      <td>1</td>\n",
       "      <td>0</td>\n",
       "      <td>0</td>\n",
       "      <td>0</td>\n",
       "      <td>0</td>\n",
       "      <td>15000.0</td>\n",
       "      <td>Оренбургская область</td>\n",
       "      <td>0.00</td>\n",
       "    </tr>\n",
       "    <tr>\n",
       "      <th>2</th>\n",
       "      <td>15621</td>\n",
       "      <td>9</td>\n",
       "      <td>9</td>\n",
       "      <td>30</td>\n",
       "      <td>7</td>\n",
       "      <td>Kia</td>\n",
       "      <td>Sportage</td>\n",
       "      <td>150.0</td>\n",
       "      <td>1</td>\n",
       "      <td>819598.0</td>\n",
       "      <td>...</td>\n",
       "      <td>M</td>\n",
       "      <td>0</td>\n",
       "      <td>0</td>\n",
       "      <td>1</td>\n",
       "      <td>0</td>\n",
       "      <td>0</td>\n",
       "      <td>2</td>\n",
       "      <td>0.0</td>\n",
       "      <td>Оренбургская область</td>\n",
       "      <td>-1.00</td>\n",
       "    </tr>\n",
       "    <tr>\n",
       "      <th>3</th>\n",
       "      <td>5466</td>\n",
       "      <td>2</td>\n",
       "      <td>2</td>\n",
       "      <td>44</td>\n",
       "      <td>13</td>\n",
       "      <td>Ford</td>\n",
       "      <td>Mondeo</td>\n",
       "      <td>146.0</td>\n",
       "      <td>0</td>\n",
       "      <td>686111.0</td>\n",
       "      <td>...</td>\n",
       "      <td>M</td>\n",
       "      <td>0</td>\n",
       "      <td>0</td>\n",
       "      <td>0</td>\n",
       "      <td>1</td>\n",
       "      <td>0</td>\n",
       "      <td>2</td>\n",
       "      <td>20000.0</td>\n",
       "      <td>Оренбургская область</td>\n",
       "      <td>-0.08</td>\n",
       "    </tr>\n",
       "    <tr>\n",
       "      <th>4</th>\n",
       "      <td>90392</td>\n",
       "      <td>8</td>\n",
       "      <td>8</td>\n",
       "      <td>41</td>\n",
       "      <td>0</td>\n",
       "      <td>Kia</td>\n",
       "      <td>Sorento</td>\n",
       "      <td>175.0</td>\n",
       "      <td>0</td>\n",
       "      <td>1829900.0</td>\n",
       "      <td>...</td>\n",
       "      <td>M</td>\n",
       "      <td>2</td>\n",
       "      <td>2</td>\n",
       "      <td>0</td>\n",
       "      <td>0</td>\n",
       "      <td>0</td>\n",
       "      <td>0</td>\n",
       "      <td>0.0</td>\n",
       "      <td>Оренбургская область</td>\n",
       "      <td>0.78</td>\n",
       "    </tr>\n",
       "    <tr>\n",
       "      <th>...</th>\n",
       "      <td>...</td>\n",
       "      <td>...</td>\n",
       "      <td>...</td>\n",
       "      <td>...</td>\n",
       "      <td>...</td>\n",
       "      <td>...</td>\n",
       "      <td>...</td>\n",
       "      <td>...</td>\n",
       "      <td>...</td>\n",
       "      <td>...</td>\n",
       "      <td>...</td>\n",
       "      <td>...</td>\n",
       "      <td>...</td>\n",
       "      <td>...</td>\n",
       "      <td>...</td>\n",
       "      <td>...</td>\n",
       "      <td>...</td>\n",
       "      <td>...</td>\n",
       "      <td>...</td>\n",
       "      <td>...</td>\n",
       "      <td>...</td>\n",
       "    </tr>\n",
       "    <tr>\n",
       "      <th>9655</th>\n",
       "      <td>75528</td>\n",
       "      <td>2</td>\n",
       "      <td>2</td>\n",
       "      <td>63</td>\n",
       "      <td>40</td>\n",
       "      <td>Toyota</td>\n",
       "      <td>Land Cruiser Prado</td>\n",
       "      <td>173.0</td>\n",
       "      <td>0</td>\n",
       "      <td>2909000.0</td>\n",
       "      <td>...</td>\n",
       "      <td>M</td>\n",
       "      <td>1</td>\n",
       "      <td>1</td>\n",
       "      <td>0</td>\n",
       "      <td>1</td>\n",
       "      <td>0</td>\n",
       "      <td>0</td>\n",
       "      <td>30000.0</td>\n",
       "      <td>Оренбургская область</td>\n",
       "      <td>-0.36</td>\n",
       "    </tr>\n",
       "    <tr>\n",
       "      <th>9656</th>\n",
       "      <td>32650</td>\n",
       "      <td>3</td>\n",
       "      <td>3</td>\n",
       "      <td>39</td>\n",
       "      <td>14</td>\n",
       "      <td>Skoda</td>\n",
       "      <td>Octavia</td>\n",
       "      <td>102.0</td>\n",
       "      <td>1</td>\n",
       "      <td>650000.0</td>\n",
       "      <td>...</td>\n",
       "      <td>F</td>\n",
       "      <td>0</td>\n",
       "      <td>0</td>\n",
       "      <td>1</td>\n",
       "      <td>1</td>\n",
       "      <td>0</td>\n",
       "      <td>0</td>\n",
       "      <td>0.0</td>\n",
       "      <td>Оренбургская область</td>\n",
       "      <td>-0.46</td>\n",
       "    </tr>\n",
       "    <tr>\n",
       "      <th>9657</th>\n",
       "      <td>36923</td>\n",
       "      <td>6</td>\n",
       "      <td>6</td>\n",
       "      <td>43</td>\n",
       "      <td>15</td>\n",
       "      <td>Skoda</td>\n",
       "      <td>Octavia</td>\n",
       "      <td>180.0</td>\n",
       "      <td>0</td>\n",
       "      <td>1050000.0</td>\n",
       "      <td>...</td>\n",
       "      <td>M</td>\n",
       "      <td>0</td>\n",
       "      <td>0</td>\n",
       "      <td>1</td>\n",
       "      <td>1</td>\n",
       "      <td>0</td>\n",
       "      <td>1</td>\n",
       "      <td>10000.0</td>\n",
       "      <td>Оренбургская область</td>\n",
       "      <td>0.05</td>\n",
       "    </tr>\n",
       "    <tr>\n",
       "      <th>9658</th>\n",
       "      <td>58034</td>\n",
       "      <td>8</td>\n",
       "      <td>8</td>\n",
       "      <td>44</td>\n",
       "      <td>17</td>\n",
       "      <td>Ford</td>\n",
       "      <td>Explorer</td>\n",
       "      <td>294.0</td>\n",
       "      <td>1</td>\n",
       "      <td>1793985.0</td>\n",
       "      <td>...</td>\n",
       "      <td>M</td>\n",
       "      <td>1</td>\n",
       "      <td>1</td>\n",
       "      <td>0</td>\n",
       "      <td>0</td>\n",
       "      <td>0</td>\n",
       "      <td>0</td>\n",
       "      <td>0.0</td>\n",
       "      <td>Оренбургская область</td>\n",
       "      <td>0.00</td>\n",
       "    </tr>\n",
       "    <tr>\n",
       "      <th>9659</th>\n",
       "      <td>83632</td>\n",
       "      <td>10</td>\n",
       "      <td>10</td>\n",
       "      <td>46</td>\n",
       "      <td>27</td>\n",
       "      <td>Hyundai</td>\n",
       "      <td>Santa Fe</td>\n",
       "      <td>197.0</td>\n",
       "      <td>0</td>\n",
       "      <td>1394000.0</td>\n",
       "      <td>...</td>\n",
       "      <td>M</td>\n",
       "      <td>2</td>\n",
       "      <td>2</td>\n",
       "      <td>0</td>\n",
       "      <td>0</td>\n",
       "      <td>0</td>\n",
       "      <td>2</td>\n",
       "      <td>0.0</td>\n",
       "      <td>Оренбургская область</td>\n",
       "      <td>1.25</td>\n",
       "    </tr>\n",
       "  </tbody>\n",
       "</table>\n",
       "<p>9660 rows × 21 columns</p>\n",
       "</div>"
      ],
      "text/plain": [
       "      POLICY_ID  POLICY_BEGIN_MONTH  POLICY_END_MONTH  POLICY_MIN_AGE  \\\n",
       "0         82937                   8                 8              41   \n",
       "1         60630                   8                 8              32   \n",
       "2         15621                   9                 9              30   \n",
       "3          5466                   2                 2              44   \n",
       "4         90392                   8                 8              41   \n",
       "...         ...                 ...               ...             ...   \n",
       "9655      75528                   2                 2              63   \n",
       "9656      32650                   3                 3              39   \n",
       "9657      36923                   6                 6              43   \n",
       "9658      58034                   8                 8              44   \n",
       "9659      83632                  10                10              46   \n",
       "\n",
       "      POLICY_MIN_DRIVING_EXPERIENCE VEHICLE_MAKE       VEHICLE_MODEL  \\\n",
       "0                                 5         Ford                Kuga   \n",
       "1                              1994      Hyundai                 i40   \n",
       "2                                 7          Kia            Sportage   \n",
       "3                                13         Ford              Mondeo   \n",
       "4                                 0          Kia             Sorento   \n",
       "...                             ...          ...                 ...   \n",
       "9655                             40       Toyota  Land Cruiser Prado   \n",
       "9656                             14        Skoda             Octavia   \n",
       "9657                             15        Skoda             Octavia   \n",
       "9658                             17         Ford            Explorer   \n",
       "9659                             27      Hyundai            Santa Fe   \n",
       "\n",
       "      VEHICLE_ENGINE_POWER  VEHICLE_IN_CREDIT  VEHICLE_SUM_INSURED  ...  \\\n",
       "0                    150.0                  0            1000000.0  ...   \n",
       "1                    178.0                  0            1315000.0  ...   \n",
       "2                    150.0                  1             819598.0  ...   \n",
       "3                    146.0                  0             686111.0  ...   \n",
       "4                    175.0                  0            1829900.0  ...   \n",
       "...                    ...                ...                  ...  ...   \n",
       "9655                 173.0                  0            2909000.0  ...   \n",
       "9656                 102.0                  1             650000.0  ...   \n",
       "9657                 180.0                  0            1050000.0  ...   \n",
       "9658                 294.0                  1            1793985.0  ...   \n",
       "9659                 197.0                  0            1394000.0  ...   \n",
       "\n",
       "     INSURER_GENDER POLICY_CLM_N  POLICY_CLM_GLT_N  CLIENT_HAS_DAGO  \\\n",
       "0                 F            0                 0                0   \n",
       "1                 M            1                 1                0   \n",
       "2                 M            0                 0                1   \n",
       "3                 M            0                 0                0   \n",
       "4                 M            2                 2                0   \n",
       "...             ...          ...               ...              ...   \n",
       "9655              M            1                 1                0   \n",
       "9656              F            0                 0                1   \n",
       "9657              M            0                 0                1   \n",
       "9658              M            1                 1                0   \n",
       "9659              M            2                 2                0   \n",
       "\n",
       "      CLIENT_HAS_OSAGO  POLICY_HAS_COMPLAINTS  POLICY_YEARS_RENEWED_N  \\\n",
       "0                    1                      1                       0   \n",
       "1                    0                      0                       0   \n",
       "2                    0                      0                       2   \n",
       "3                    1                      0                       2   \n",
       "4                    0                      0                       0   \n",
       "...                ...                    ...                     ...   \n",
       "9655                 1                      0                       0   \n",
       "9656                 1                      0                       0   \n",
       "9657                 1                      0                       1   \n",
       "9658                 0                      0                       0   \n",
       "9659                 0                      0                       2   \n",
       "\n",
       "     POLICY_DEDUCT_VALUE  CLIENT_REGISTRATION_REGION POLICY_PRICE_CHANGE  \n",
       "0                20000.0        Оренбургская область               -0.04  \n",
       "1                15000.0        Оренбургская область                0.00  \n",
       "2                    0.0        Оренбургская область               -1.00  \n",
       "3                20000.0        Оренбургская область               -0.08  \n",
       "4                    0.0        Оренбургская область                0.78  \n",
       "...                  ...                         ...                 ...  \n",
       "9655             30000.0        Оренбургская область               -0.36  \n",
       "9656                 0.0        Оренбургская область               -0.46  \n",
       "9657             10000.0        Оренбургская область                0.05  \n",
       "9658                 0.0        Оренбургская область                0.00  \n",
       "9659                 0.0        Оренбургская область                1.25  \n",
       "\n",
       "[9660 rows x 21 columns]"
      ]
     },
     "execution_count": 2,
     "metadata": {},
     "output_type": "execute_result"
    }
   ],
   "source": [
    "# загрузка DataFrame'а\n",
    "df = pd.read_csv(r\"C:\\Users\\Max\\Desktop\\Project\\RESO.csv\", encoding='utf-8')\n",
    "df"
   ]
  },
  {
   "cell_type": "code",
   "execution_count": 3,
   "id": "bbcc6fcf",
   "metadata": {
    "scrolled": false
   },
   "outputs": [
    {
     "name": "stdout",
     "output_type": "stream",
     "text": [
      "<class 'pandas.core.frame.DataFrame'>\n",
      "RangeIndex: 9660 entries, 0 to 9659\n",
      "Data columns (total 21 columns):\n",
      " #   Column                         Non-Null Count  Dtype  \n",
      "---  ------                         --------------  -----  \n",
      " 0   POLICY_ID                      9660 non-null   int64  \n",
      " 1   POLICY_BEGIN_MONTH             9660 non-null   int64  \n",
      " 2   POLICY_END_MONTH               9660 non-null   int64  \n",
      " 3   POLICY_MIN_AGE                 9660 non-null   int64  \n",
      " 4   POLICY_MIN_DRIVING_EXPERIENCE  9660 non-null   int64  \n",
      " 5   VEHICLE_MAKE                   9660 non-null   object \n",
      " 6   VEHICLE_MODEL                  9660 non-null   object \n",
      " 7   VEHICLE_ENGINE_POWER           9660 non-null   float64\n",
      " 8   VEHICLE_IN_CREDIT              9660 non-null   int64  \n",
      " 9   VEHICLE_SUM_INSURED            9660 non-null   float64\n",
      " 10  POLICY_INTERMEDIARY            9660 non-null   object \n",
      " 11  INSURER_GENDER                 9660 non-null   object \n",
      " 12  POLICY_CLM_N                   9660 non-null   int64  \n",
      " 13  POLICY_CLM_GLT_N               9660 non-null   int64  \n",
      " 14  CLIENT_HAS_DAGO                9660 non-null   int64  \n",
      " 15  CLIENT_HAS_OSAGO               9660 non-null   int64  \n",
      " 16  POLICY_HAS_COMPLAINTS          9660 non-null   int64  \n",
      " 17  POLICY_YEARS_RENEWED_N         9660 non-null   object \n",
      " 18  POLICY_DEDUCT_VALUE            9660 non-null   float64\n",
      " 19  CLIENT_REGISTRATION_REGION     9660 non-null   object \n",
      " 20  POLICY_PRICE_CHANGE            9660 non-null   float64\n",
      "dtypes: float64(4), int64(11), object(6)\n",
      "memory usage: 1.5+ MB\n"
     ]
    }
   ],
   "source": [
    "# оценка типов данных\n",
    "df.info()"
   ]
  },
  {
   "cell_type": "code",
   "execution_count": 4,
   "id": "affcb447",
   "metadata": {
    "scrolled": false
   },
   "outputs": [
    {
     "data": {
      "text/plain": [
       "POLICY_ID                        0\n",
       "POLICY_BEGIN_MONTH               0\n",
       "POLICY_END_MONTH                 0\n",
       "POLICY_MIN_AGE                   0\n",
       "POLICY_MIN_DRIVING_EXPERIENCE    0\n",
       "VEHICLE_MAKE                     0\n",
       "VEHICLE_MODEL                    0\n",
       "VEHICLE_ENGINE_POWER             0\n",
       "VEHICLE_IN_CREDIT                0\n",
       "VEHICLE_SUM_INSURED              0\n",
       "POLICY_INTERMEDIARY              0\n",
       "INSURER_GENDER                   0\n",
       "POLICY_CLM_N                     0\n",
       "POLICY_CLM_GLT_N                 0\n",
       "CLIENT_HAS_DAGO                  0\n",
       "CLIENT_HAS_OSAGO                 0\n",
       "POLICY_HAS_COMPLAINTS            0\n",
       "POLICY_YEARS_RENEWED_N           0\n",
       "POLICY_DEDUCT_VALUE              0\n",
       "CLIENT_REGISTRATION_REGION       0\n",
       "POLICY_PRICE_CHANGE              0\n",
       "dtype: int64"
      ]
     },
     "execution_count": 4,
     "metadata": {},
     "output_type": "execute_result"
    }
   ],
   "source": [
    "# Проверка на пропуски\n",
    "df.isnull().sum()"
   ]
  },
  {
   "cell_type": "code",
   "execution_count": 5,
   "id": "76cde11c",
   "metadata": {
    "scrolled": false
   },
   "outputs": [
    {
     "data": {
      "text/plain": [
       "0       False\n",
       "1       False\n",
       "2       False\n",
       "3       False\n",
       "4       False\n",
       "        ...  \n",
       "9655    False\n",
       "9656    False\n",
       "9657    False\n",
       "9658    False\n",
       "9659    False\n",
       "Length: 9660, dtype: bool"
      ]
     },
     "execution_count": 5,
     "metadata": {},
     "output_type": "execute_result"
    }
   ],
   "source": [
    "# Проверка на дубликаты\n",
    "df.duplicated()"
   ]
  },
  {
   "cell_type": "markdown",
   "id": "7ba3d5c4",
   "metadata": {},
   "source": [
    "# Этап 2. \n",
    "### Рассчет показателей и статистик"
   ]
  },
  {
   "cell_type": "code",
   "execution_count": 6,
   "id": "1d55db46",
   "metadata": {
    "scrolled": false
   },
   "outputs": [
    {
     "data": {
      "text/html": [
       "<div>\n",
       "<style scoped>\n",
       "    .dataframe tbody tr th:only-of-type {\n",
       "        vertical-align: middle;\n",
       "    }\n",
       "\n",
       "    .dataframe tbody tr th {\n",
       "        vertical-align: top;\n",
       "    }\n",
       "\n",
       "    .dataframe thead th {\n",
       "        text-align: right;\n",
       "    }\n",
       "</style>\n",
       "<table border=\"1\" class=\"dataframe\">\n",
       "  <thead>\n",
       "    <tr style=\"text-align: right;\">\n",
       "      <th></th>\n",
       "      <th>INSURER_GENDER</th>\n",
       "      <th>cnt_by_sex</th>\n",
       "    </tr>\n",
       "  </thead>\n",
       "  <tbody>\n",
       "    <tr>\n",
       "      <th>0</th>\n",
       "      <td>F</td>\n",
       "      <td>3548</td>\n",
       "    </tr>\n",
       "    <tr>\n",
       "      <th>1</th>\n",
       "      <td>M</td>\n",
       "      <td>6112</td>\n",
       "    </tr>\n",
       "  </tbody>\n",
       "</table>\n",
       "</div>"
      ],
      "text/plain": [
       "  INSURER_GENDER  cnt_by_sex\n",
       "0              F        3548\n",
       "1              M        6112"
      ]
     },
     "execution_count": 6,
     "metadata": {},
     "output_type": "execute_result"
    }
   ],
   "source": [
    "# количество женщин поступаюищх на страхование\n",
    "df.groupby('INSURER_GENDER',as_index=False).agg(cnt_by_sex = ('INSURER_GENDER', 'count'))"
   ]
  },
  {
   "cell_type": "code",
   "execution_count": 7,
   "id": "6ee5b75b",
   "metadata": {},
   "outputs": [
    {
     "name": "stdout",
     "output_type": "stream",
     "text": [
      "Всего застраховано женщин 3548, а мужчин 6112. Таким образом на кажого страхователя женского пола приходится 1.72 страхователей мужского пола\n"
     ]
    }
   ],
   "source": [
    "# Соотношений мужчин к женщинам\n",
    "gender_counts = df['INSURER_GENDER'].value_counts()\n",
    "cnt_female = gender_counts.get('F')\n",
    "cnt_male = gender_counts.get('M')\n",
    "\n",
    "male_female_ratio = round(cnt_male/cnt_female,2)\n",
    "male_female_ratio \n",
    "\n",
    "print(f'Всего застраховано женщин {cnt_female}, а мужчин {cnt_male}. Таким образом на кажого страхователя женского пола приходится {male_female_ratio} страхователей мужского пола')"
   ]
  },
  {
   "cell_type": "code",
   "execution_count": 8,
   "id": "68d4f5b0",
   "metadata": {},
   "outputs": [
    {
     "name": "stdout",
     "output_type": "stream",
     "text": [
      " На каждый страховой случай где страхователем была женщина приходится 1.54 аналогичных случаев где страхователем был мужчина\n"
     ]
    }
   ],
   "source": [
    "# Соотношение количества аварий между мужчинами и женщинами\n",
    "table = df.groupby('INSURER_GENDER',as_index=False).agg(cnt_clm =('POLICY_CLM_N', 'sum'))\n",
    "female_clm = table.iloc[0,1]\n",
    "male_clm = table.iloc[1,1]\n",
    "male_female_clm_ratio = round(male_clm / female_clm,2)\n",
    "print(f' На каждый страховой случай где страхователем была женщина приходится {male_female_clm_ratio} аналогичных случаев где страхователем был мужчина')"
   ]
  },
  {
   "cell_type": "code",
   "execution_count": null,
   "id": "f9a11433",
   "metadata": {},
   "outputs": [],
   "source": []
  },
  {
   "cell_type": "code",
   "execution_count": 9,
   "id": "b7be7720",
   "metadata": {},
   "outputs": [
    {
     "name": "stdout",
     "output_type": "stream",
     "text": [
      "Медианное количество аварий у женщин равно 0.0, у мужчин тоже равно 0.0. Можно сделать вывод о том, что половина женщин и мужчин не попадают в аварии\n"
     ]
    }
   ],
   "source": [
    "# медиана в данном случае равна нулю у обоих полов, половина или более мужчин и женщин не попадает в аварии.\n",
    "female_df = df[df['INSURER_GENDER']=='F']\n",
    "median_f = female_df[\"POLICY_CLM_N\"].median()\n",
    "male_df = df[df['INSURER_GENDER']=='M']\n",
    "median_m =  male_df[\"POLICY_CLM_N\"].median()\n",
    "print(f'Медианное количество аварий у женщин равно {median_f}, у мужчин тоже равно {median_m}. Можно сделать вывод о том, что половина женщин и мужчин не попадают в аварии')"
   ]
  },
  {
   "cell_type": "code",
   "execution_count": 10,
   "id": "4ceef351",
   "metadata": {},
   "outputs": [
    {
     "data": {
      "text/html": [
       "<div>\n",
       "<style scoped>\n",
       "    .dataframe tbody tr th:only-of-type {\n",
       "        vertical-align: middle;\n",
       "    }\n",
       "\n",
       "    .dataframe tbody tr th {\n",
       "        vertical-align: top;\n",
       "    }\n",
       "\n",
       "    .dataframe thead th {\n",
       "        text-align: right;\n",
       "    }\n",
       "</style>\n",
       "<table border=\"1\" class=\"dataframe\">\n",
       "  <thead>\n",
       "    <tr style=\"text-align: right;\">\n",
       "      <th></th>\n",
       "      <th>INSURER_GENDER</th>\n",
       "      <th>POLICY_CLM_GLT_N</th>\n",
       "    </tr>\n",
       "  </thead>\n",
       "  <tbody>\n",
       "    <tr>\n",
       "      <th>0</th>\n",
       "      <td>F</td>\n",
       "      <td>1334</td>\n",
       "    </tr>\n",
       "    <tr>\n",
       "      <th>1</th>\n",
       "      <td>M</td>\n",
       "      <td>2036</td>\n",
       "    </tr>\n",
       "  </tbody>\n",
       "</table>\n",
       "</div>"
      ],
      "text/plain": [
       "  INSURER_GENDER  POLICY_CLM_GLT_N\n",
       "0              F              1334\n",
       "1              M              2036"
      ]
     },
     "execution_count": 10,
     "metadata": {},
     "output_type": "execute_result"
    }
   ],
   "source": [
    "# Количество случаев в которых страхователь виновник \n",
    "culprit = df.groupby(['INSURER_GENDER'])['POLICY_CLM_GLT_N'].sum().reset_index()\n",
    "culprit"
   ]
  },
  {
   "cell_type": "code",
   "execution_count": 11,
   "id": "22549476",
   "metadata": {
    "scrolled": true
   },
   "outputs": [
    {
     "name": "stdout",
     "output_type": "stream",
     "text": [
      "Среди всех женщин лишь 45.0% обращаются за страховыми выплатами, среди мужчин данный показатель равен 40.0%\n",
      "Доля женщин в выплатах составляет 39.0% , доля мужчин же ровна 61.0%\n"
     ]
    }
   ],
   "source": [
    "#среднее количество аварий у мужчин и женщин\n",
    "female_crash = round(female_clm/cnt_female,2)*100\n",
    "male_crash = round(male_clm/cnt_male,2)*100\n",
    "print(f'Среди всех женщин лишь {female_crash}% обращаются за страховыми выплатами, среди мужчин данный показатель равен {male_crash}%')\n",
    "total_crash = df['POLICY_CLM_N'].sum()\n",
    "female_avg_crash = round(female_clm/total_crash,2)*100\n",
    "male_avg_crash = round(male_clm/total_crash,2)*100\n",
    "print(f'Доля женщин в выплатах составляет {female_avg_crash}% , доля мужчин же ровна {male_avg_crash}%')"
   ]
  },
  {
   "cell_type": "code",
   "execution_count": 12,
   "id": "f4b434a3",
   "metadata": {
    "scrolled": true
   },
   "outputs": [
    {
     "data": {
      "text/plain": [
       "POLICY_CLM_N\n",
       "0    6818\n",
       "1    1996\n",
       "2     581\n",
       "3     183\n",
       "4      72\n",
       "5      10\n",
       "Name: count, dtype: int64"
      ]
     },
     "execution_count": 12,
     "metadata": {},
     "output_type": "execute_result"
    }
   ],
   "source": [
    "df[\"POLICY_CLM_N\"].value_counts()"
   ]
  },
  {
   "cell_type": "code",
   "execution_count": 13,
   "id": "f09a2761",
   "metadata": {
    "scrolled": true
   },
   "outputs": [
    {
     "data": {
      "text/plain": [
       "(9660, 21)"
      ]
     },
     "execution_count": 13,
     "metadata": {},
     "output_type": "execute_result"
    }
   ],
   "source": [
    "df.shape"
   ]
  },
  {
   "cell_type": "code",
   "execution_count": 14,
   "id": "d3d7b5d2",
   "metadata": {},
   "outputs": [
    {
     "data": {
      "text/html": [
       "<div>\n",
       "<style scoped>\n",
       "    .dataframe tbody tr th:only-of-type {\n",
       "        vertical-align: middle;\n",
       "    }\n",
       "\n",
       "    .dataframe tbody tr th {\n",
       "        vertical-align: top;\n",
       "    }\n",
       "\n",
       "    .dataframe thead th {\n",
       "        text-align: right;\n",
       "    }\n",
       "</style>\n",
       "<table border=\"1\" class=\"dataframe\">\n",
       "  <thead>\n",
       "    <tr style=\"text-align: right;\">\n",
       "      <th></th>\n",
       "      <th>POLICY_CLM_N</th>\n",
       "      <th>Количество у мужчин</th>\n",
       "      <th>Количество у женщин</th>\n",
       "    </tr>\n",
       "  </thead>\n",
       "  <tbody>\n",
       "    <tr>\n",
       "      <th>0</th>\n",
       "      <td>0</td>\n",
       "      <td>2469</td>\n",
       "      <td>4349</td>\n",
       "    </tr>\n",
       "    <tr>\n",
       "      <th>1</th>\n",
       "      <td>1</td>\n",
       "      <td>731</td>\n",
       "      <td>1265</td>\n",
       "    </tr>\n",
       "    <tr>\n",
       "      <th>2</th>\n",
       "      <td>2</td>\n",
       "      <td>230</td>\n",
       "      <td>351</td>\n",
       "    </tr>\n",
       "    <tr>\n",
       "      <th>3</th>\n",
       "      <td>3</td>\n",
       "      <td>76</td>\n",
       "      <td>107</td>\n",
       "    </tr>\n",
       "    <tr>\n",
       "      <th>4</th>\n",
       "      <td>4</td>\n",
       "      <td>38</td>\n",
       "      <td>34</td>\n",
       "    </tr>\n",
       "    <tr>\n",
       "      <th>5</th>\n",
       "      <td>5</td>\n",
       "      <td>4</td>\n",
       "      <td>6</td>\n",
       "    </tr>\n",
       "  </tbody>\n",
       "</table>\n",
       "</div>"
      ],
      "text/plain": [
       "   POLICY_CLM_N  Количество у мужчин  Количество у женщин\n",
       "0             0                 2469                 4349\n",
       "1             1                  731                 1265\n",
       "2             2                  230                  351\n",
       "3             3                   76                  107\n",
       "4             4                   38                   34\n",
       "5             5                    4                    6"
      ]
     },
     "execution_count": 14,
     "metadata": {},
     "output_type": "execute_result"
    }
   ],
   "source": [
    "# Количество аварий по одному полису, в мужских и женских группах\n",
    "group_on_gender_CLM = df.groupby(['POLICY_CLM_N', 'INSURER_GENDER']).agg(cnt_on_female = ('POLICY_CLM_N', 'count'))\n",
    "group_on_gender_CLM_unstacked = group_on_gender_CLM.unstack(fill_value=0)\n",
    "group_on_gender_CLM_unstacked.columns = ['Количество у мужчин', 'Количество у женщин']\n",
    "group_on_gender_CLM_unstacked = group_on_gender_CLM_unstacked.fillna('n/a')\n",
    "group_on_gender_CLM_unstacked = group_on_gender_CLM_unstacked.reset_index()\n",
    "group_on_gender_CLM_unstacked"
   ]
  },
  {
   "cell_type": "markdown",
   "id": "116e817a",
   "metadata": {},
   "source": [
    "# Этап 3.\n",
    "### Рассчет показателей и статистик для нормированной выборки"
   ]
  },
  {
   "cell_type": "code",
   "execution_count": 15,
   "id": "5688790b",
   "metadata": {},
   "outputs": [
    {
     "data": {
      "text/plain": [
       "(7096, 21)"
      ]
     },
     "execution_count": 15,
     "metadata": {},
     "output_type": "execute_result"
    }
   ],
   "source": [
    "# Ввиду того что количество женщин и мужчин сильно олтличается, нормируем выборки, \n",
    "# выровняем количество мужчин и женщин сохрани долю аварийности.\n",
    "males_df = df[df['INSURER_GENDER'] == 'M']\n",
    "females_df = df[df['INSURER_GENDER'] == 'F']\n",
    "size = min(len(males_df), len(females_df))\n",
    "\n",
    "# Случайная выборка\n",
    "sampled_males = males_df.sample(size, random_state=1)\n",
    "sampled_females = females_df.sample(size, random_state=1)\n",
    "balanced_df = pd.concat([sampled_males, sampled_females])\n",
    "balanced_df.shape"
   ]
  },
  {
   "cell_type": "code",
   "execution_count": 16,
   "id": "13b94c8d",
   "metadata": {},
   "outputs": [
    {
     "name": "stdout",
     "output_type": "stream",
     "text": [
      "Всего застраховано женщин 3548, а мужчин 3548. Таким образом на кажого страхователя женского пола приходится 1.0 страхователей мужского пола\n"
     ]
    }
   ],
   "source": [
    "# Соотношений мужчин к женщинам\n",
    "balanced_gender_counts = balanced_df['INSURER_GENDER'].value_counts()\n",
    "balanced_cnt_female = balanced_gender_counts.get('F')\n",
    "balanced_cnt_male = balanced_gender_counts.get('M')\n",
    "\n",
    "balanced_male_female_ratio = round(balanced_cnt_male/balanced_cnt_female,2)\n",
    "balanced_male_female_ratio \n",
    "\n",
    "print(f'Всего застраховано женщин {balanced_cnt_female}, а мужчин {balanced_cnt_male}. Таким образом на кажого страхователя женского пола приходится {balanced_male_female_ratio} страхователей мужского пола')"
   ]
  },
  {
   "cell_type": "code",
   "execution_count": 17,
   "id": "06bbedb4",
   "metadata": {},
   "outputs": [
    {
     "name": "stdout",
     "output_type": "stream",
     "text": [
      " На каждый страховой случай где страхователем была женщина приходится 0.91 аналогичных случаев где страхователем был мужчина\n"
     ]
    }
   ],
   "source": [
    "# Соотношение количества аварий между мужчинами и женщинами\n",
    "table = balanced_df.groupby('INSURER_GENDER',as_index=False).agg(cnt_clm =('POLICY_CLM_N', 'sum'))\n",
    "balanced_female_clm = table.iloc[0,1]\n",
    "balanced_male_clm = table.iloc[1,1]\n",
    "balandec_male_female_clm_ratio = round(balanced_male_clm / balanced_female_clm,2)\n",
    "print(f' На каждый страховой случай где страхователем была женщина приходится {balandec_male_female_clm_ratio} аналогичных случаев где страхователем был мужчина')"
   ]
  },
  {
   "cell_type": "code",
   "execution_count": 18,
   "id": "4e05b65b",
   "metadata": {
    "scrolled": true
   },
   "outputs": [
    {
     "data": {
      "text/html": [
       "<div>\n",
       "<style scoped>\n",
       "    .dataframe tbody tr th:only-of-type {\n",
       "        vertical-align: middle;\n",
       "    }\n",
       "\n",
       "    .dataframe tbody tr th {\n",
       "        vertical-align: top;\n",
       "    }\n",
       "\n",
       "    .dataframe thead th {\n",
       "        text-align: right;\n",
       "    }\n",
       "</style>\n",
       "<table border=\"1\" class=\"dataframe\">\n",
       "  <thead>\n",
       "    <tr style=\"text-align: right;\">\n",
       "      <th></th>\n",
       "      <th>INSURER_GENDER</th>\n",
       "      <th>POLICY_CLM_N</th>\n",
       "    </tr>\n",
       "  </thead>\n",
       "  <tbody>\n",
       "    <tr>\n",
       "      <th>0</th>\n",
       "      <td>F</td>\n",
       "      <td>1591</td>\n",
       "    </tr>\n",
       "    <tr>\n",
       "      <th>1</th>\n",
       "      <td>M</td>\n",
       "      <td>1444</td>\n",
       "    </tr>\n",
       "  </tbody>\n",
       "</table>\n",
       "</div>"
      ],
      "text/plain": [
       "  INSURER_GENDER  POLICY_CLM_N\n",
       "0              F          1591\n",
       "1              M          1444"
      ]
     },
     "execution_count": 18,
     "metadata": {},
     "output_type": "execute_result"
    }
   ],
   "source": [
    "# Количество обращений мужчин и женщин в нормированной выборке\n",
    "claim_counts = balanced_df.groupby(['INSURER_GENDER'])['POLICY_CLM_N'].sum().reset_index()\n",
    "claim_counts"
   ]
  },
  {
   "cell_type": "code",
   "execution_count": 19,
   "id": "4c72d07e",
   "metadata": {
    "scrolled": true
   },
   "outputs": [
    {
     "data": {
      "text/html": [
       "<div>\n",
       "<style scoped>\n",
       "    .dataframe tbody tr th:only-of-type {\n",
       "        vertical-align: middle;\n",
       "    }\n",
       "\n",
       "    .dataframe tbody tr th {\n",
       "        vertical-align: top;\n",
       "    }\n",
       "\n",
       "    .dataframe thead th {\n",
       "        text-align: right;\n",
       "    }\n",
       "</style>\n",
       "<table border=\"1\" class=\"dataframe\">\n",
       "  <thead>\n",
       "    <tr style=\"text-align: right;\">\n",
       "      <th></th>\n",
       "      <th>INSURER_GENDER</th>\n",
       "      <th>POLICY_CLM_GLT_N</th>\n",
       "    </tr>\n",
       "  </thead>\n",
       "  <tbody>\n",
       "    <tr>\n",
       "      <th>0</th>\n",
       "      <td>F</td>\n",
       "      <td>1334</td>\n",
       "    </tr>\n",
       "    <tr>\n",
       "      <th>1</th>\n",
       "      <td>M</td>\n",
       "      <td>1198</td>\n",
       "    </tr>\n",
       "  </tbody>\n",
       "</table>\n",
       "</div>"
      ],
      "text/plain": [
       "  INSURER_GENDER  POLICY_CLM_GLT_N\n",
       "0              F              1334\n",
       "1              M              1198"
      ]
     },
     "execution_count": 19,
     "metadata": {},
     "output_type": "execute_result"
    }
   ],
   "source": [
    "# Количество случаев в которых страхователь виновник \n",
    "culprit_balanced = balanced_df.groupby(['INSURER_GENDER'])['POLICY_CLM_GLT_N'].sum().reset_index()\n",
    "culprit_balanced"
   ]
  },
  {
   "cell_type": "code",
   "execution_count": 20,
   "id": "6f028043",
   "metadata": {
    "scrolled": true
   },
   "outputs": [
    {
     "data": {
      "text/html": [
       "<div>\n",
       "<style scoped>\n",
       "    .dataframe tbody tr th:only-of-type {\n",
       "        vertical-align: middle;\n",
       "    }\n",
       "\n",
       "    .dataframe tbody tr th {\n",
       "        vertical-align: top;\n",
       "    }\n",
       "\n",
       "    .dataframe thead th {\n",
       "        text-align: right;\n",
       "    }\n",
       "</style>\n",
       "<table border=\"1\" class=\"dataframe\">\n",
       "  <thead>\n",
       "    <tr style=\"text-align: right;\">\n",
       "      <th></th>\n",
       "      <th>POLICY_CLM_N</th>\n",
       "      <th>Количество у мужчин</th>\n",
       "      <th>Количество у женщин</th>\n",
       "    </tr>\n",
       "  </thead>\n",
       "  <tbody>\n",
       "    <tr>\n",
       "      <th>0</th>\n",
       "      <td>0</td>\n",
       "      <td>2469</td>\n",
       "      <td>2500</td>\n",
       "    </tr>\n",
       "    <tr>\n",
       "      <th>1</th>\n",
       "      <td>1</td>\n",
       "      <td>731</td>\n",
       "      <td>769</td>\n",
       "    </tr>\n",
       "    <tr>\n",
       "      <th>2</th>\n",
       "      <td>2</td>\n",
       "      <td>230</td>\n",
       "      <td>192</td>\n",
       "    </tr>\n",
       "    <tr>\n",
       "      <th>3</th>\n",
       "      <td>3</td>\n",
       "      <td>76</td>\n",
       "      <td>62</td>\n",
       "    </tr>\n",
       "    <tr>\n",
       "      <th>4</th>\n",
       "      <td>4</td>\n",
       "      <td>38</td>\n",
       "      <td>20</td>\n",
       "    </tr>\n",
       "    <tr>\n",
       "      <th>5</th>\n",
       "      <td>5</td>\n",
       "      <td>4</td>\n",
       "      <td>5</td>\n",
       "    </tr>\n",
       "  </tbody>\n",
       "</table>\n",
       "</div>"
      ],
      "text/plain": [
       "   POLICY_CLM_N  Количество у мужчин  Количество у женщин\n",
       "0             0                 2469                 2500\n",
       "1             1                  731                  769\n",
       "2             2                  230                  192\n",
       "3             3                   76                   62\n",
       "4             4                   38                   20\n",
       "5             5                    4                    5"
      ]
     },
     "execution_count": 20,
     "metadata": {},
     "output_type": "execute_result"
    }
   ],
   "source": [
    "group_claim_counts = balanced_df.groupby(['POLICY_CLM_N', 'INSURER_GENDER']).agg(cnt_on_female = ('POLICY_CLM_N', 'count'))\n",
    "group_claim_counts_unstacked = group_claim_counts.unstack(fill_value=0)\n",
    "# Переименуем уровни столбцов для удобства чтения\n",
    "group_claim_counts_unstacked.columns = ['Количество у мужчин', 'Количество у женщин']\n",
    "\n",
    "# Сбросим индекс для получения более удобного формата DataFrame\n",
    "group_claim_counts_unstacked = group_claim_counts_unstacked.reset_index()\n",
    "group_claim_counts_unstacked"
   ]
  },
  {
   "cell_type": "code",
   "execution_count": 21,
   "id": "ee0474f2",
   "metadata": {
    "scrolled": false
   },
   "outputs": [
    {
     "name": "stdout",
     "output_type": "stream",
     "text": [
      "Среди всех женщин лишь 45.0% обращаются за страховыми выплатами, среди мужчин данный показатель равен 41.0%\n",
      "Доля женщин в выплатах составляет 52.0% , доля мужчин же ровна 48.0%\n"
     ]
    }
   ],
   "source": [
    "#среднее количество аварий у мужчин и женщин\n",
    "balanced_female_crash = round(balanced_female_clm/balanced_cnt_female,2)*100\n",
    "balanced_male_crash = round(balanced_male_clm/balanced_cnt_male,2)*100\n",
    "print(f'Среди всех женщин лишь {balanced_female_crash}% обращаются за страховыми выплатами, среди мужчин данный показатель равен {balanced_male_crash}%')\n",
    "balanced_total_crash = balanced_df['POLICY_CLM_N'].sum()\n",
    "balanced_female_avg_crash = round(balanced_female_clm/balanced_total_crash,2)*100\n",
    "balanced_male_avg_crash = round(balanced_male_clm/balanced_total_crash,2)*100\n",
    "print(f'Доля женщин в выплатах составляет {balanced_female_avg_crash}% , доля мужчин же ровна {balanced_male_avg_crash}%')"
   ]
  },
  {
   "cell_type": "markdown",
   "id": "23284bbf",
   "metadata": {},
   "source": [
    "#  Этап 4.\n",
    "### Построение визуализаций и корреляционный анализ"
   ]
  },
  {
   "cell_type": "code",
   "execution_count": 22,
   "id": "f7652611",
   "metadata": {
    "scrolled": false
   },
   "outputs": [
    {
     "name": "stdout",
     "output_type": "stream",
     "text": [
      "Среднее количество убытков по полу:\n",
      "  INSURER_GENDER  POLICY_CLM_N\n",
      "0              F      0.448422\n",
      "1              M      0.401505\n"
     ]
    },
    {
     "data": {
      "image/png": "[encoded data removed]",
      "text/plain": [
       "<Figure size 800x600 with 1 Axes>"
      ]
     },
     "metadata": {},
     "output_type": "display_data"
    }
   ],
   "source": [
    "average_claims = df.groupby('INSURER_GENDER')['POLICY_CLM_N'].mean().reset_index()\n",
    "\n",
    "# Выводим результаты\n",
    "print(\"Среднее количество убытков по полу:\")\n",
    "print(average_claims)\n",
    "\n",
    "# Построение графика для наглядности\n",
    "plt.figure(figsize=(8, 6))\n",
    "sns.barplot(x='INSURER_GENDER', y='POLICY_CLM_N', data=average_claims, palette='pastel')\n",
    "plt.title('Среднее количество убытков по полу клиента')\n",
    "plt.xlabel('Пол клиента')\n",
    "plt.ylabel('Среднее количество убытков')\n",
    "plt.xticks(rotation=45)\n",
    "plt.tight_layout()\n",
    "plt.show()"
   ]
  },
  {
   "cell_type": "code",
   "execution_count": 23,
   "id": "468b5885",
   "metadata": {
    "scrolled": true
   },
   "outputs": [],
   "source": [
    "df['INSURER_GENDER'] = df['INSURER_GENDER'].map({'F': 0, 'M': 1})\n",
    "balanced_df['INSURER_GENDER'] = balanced_df['INSURER_GENDER'].map({'F': 0, 'M': 1})"
   ]
  },
  {
   "cell_type": "code",
   "execution_count": 24,
   "id": "b350908f",
   "metadata": {
    "scrolled": false
   },
   "outputs": [
    {
     "name": "stdout",
     "output_type": "stream",
     "text": [
      "Корреляционная матрица между INSURER_GENDER и POLICY_CLM_N:\n",
      "                INSURER_GENDER  POLICY_CLM_N\n",
      "INSURER_GENDER        1.000000     -0.029507\n",
      "POLICY_CLM_N         -0.029507      1.000000\n"
     ]
    },
    {
     "data": {
      "image/png": "[encoded data removed]",
      "text/plain": [
       "<Figure size 600x400 with 1 Axes>"
      ]
     },
     "metadata": {},
     "output_type": "display_data"
    },
    {
     "name": "stdout",
     "output_type": "stream",
     "text": [
      "Коэффициент корреляции между полом клиента и количеством убытков: -0.03\n"
     ]
    }
   ],
   "source": [
    "subset_df = df[['INSURER_GENDER', 'POLICY_CLM_N']]\n",
    "\n",
    "# Вычисление корреляционной матрицы для двух столбцов\n",
    "correlation_matrix = subset_df.corr()\n",
    "\n",
    "# Вывод корреляционной матрицы\n",
    "print(\"Корреляционная матрица между INSURER_GENDER и POLICY_CLM_N:\")\n",
    "print(correlation_matrix)\n",
    "\n",
    "# Визуализация корреляционной матрицы\n",
    "plt.figure(figsize=(6, 4))\n",
    "sns.heatmap(correlation_matrix, annot=True, cmap='coolwarm', fmt='.2f', linewidths=0.5, cbar=False)\n",
    "plt.title('Корреляционная матрица между INSURER_GENDER и POLICY_CLM_N')\n",
    "plt.show()\n",
    "\n",
    "# Выделение коэффициента корреляции между полом и количеством убытков\n",
    "correlation_value = correlation_matrix.loc['INSURER_GENDER', 'POLICY_CLM_N']\n",
    "print(f\"Коэффициент корреляции между полом клиента и количеством убытков: {correlation_value:.2f}\")"
   ]
  },
  {
   "cell_type": "code",
   "execution_count": 25,
   "id": "7880cb21",
   "metadata": {},
   "outputs": [
    {
     "data": {
      "text/plain": [
       "-0.029507252795821167"
      ]
     },
     "execution_count": 25,
     "metadata": {},
     "output_type": "execute_result"
    }
   ],
   "source": [
    "correl = subset_df['INSURER_GENDER'].corr(subset_df['POLICY_CLM_N'])\n",
    "correl"
   ]
  },
  {
   "cell_type": "code",
   "execution_count": 26,
   "id": "2373bc6a",
   "metadata": {},
   "outputs": [
    {
     "data": {
      "text/html": [
       "<div>\n",
       "<style scoped>\n",
       "    .dataframe tbody tr th:only-of-type {\n",
       "        vertical-align: middle;\n",
       "    }\n",
       "\n",
       "    .dataframe tbody tr th {\n",
       "        vertical-align: top;\n",
       "    }\n",
       "\n",
       "    .dataframe thead th {\n",
       "        text-align: right;\n",
       "    }\n",
       "</style>\n",
       "<table border=\"1\" class=\"dataframe\">\n",
       "  <thead>\n",
       "    <tr style=\"text-align: right;\">\n",
       "      <th></th>\n",
       "      <th>INSURER_GENDER</th>\n",
       "      <th>POLICY_CLM_N</th>\n",
       "    </tr>\n",
       "  </thead>\n",
       "  <tbody>\n",
       "    <tr>\n",
       "      <th>0</th>\n",
       "      <td>0</td>\n",
       "      <td>0</td>\n",
       "    </tr>\n",
       "    <tr>\n",
       "      <th>1</th>\n",
       "      <td>1</td>\n",
       "      <td>1</td>\n",
       "    </tr>\n",
       "    <tr>\n",
       "      <th>2</th>\n",
       "      <td>1</td>\n",
       "      <td>0</td>\n",
       "    </tr>\n",
       "    <tr>\n",
       "      <th>3</th>\n",
       "      <td>1</td>\n",
       "      <td>0</td>\n",
       "    </tr>\n",
       "    <tr>\n",
       "      <th>4</th>\n",
       "      <td>1</td>\n",
       "      <td>2</td>\n",
       "    </tr>\n",
       "  </tbody>\n",
       "</table>\n",
       "</div>"
      ],
      "text/plain": [
       "   INSURER_GENDER  POLICY_CLM_N\n",
       "0               0             0\n",
       "1               1             1\n",
       "2               1             0\n",
       "3               1             0\n",
       "4               1             2"
      ]
     },
     "execution_count": 26,
     "metadata": {},
     "output_type": "execute_result"
    }
   ],
   "source": [
    "subset_df.head()"
   ]
  },
  {
   "cell_type": "code",
   "execution_count": 27,
   "id": "f23da259",
   "metadata": {},
   "outputs": [
    {
     "name": "stdout",
     "output_type": "stream",
     "text": [
      "Корреляционная матрица между INSURER_GENDER и POLICY_CLM_N:\n",
      "                INSURER_GENDER  POLICY_CLM_N\n",
      "INSURER_GENDER        1.000000     -0.026659\n",
      "POLICY_CLM_N         -0.026659      1.000000\n"
     ]
    },
    {
     "data": {
      "image/png": "[encoded data removed]",
      "text/plain": [
       "<Figure size 600x400 with 1 Axes>"
      ]
     },
     "metadata": {},
     "output_type": "display_data"
    },
    {
     "name": "stdout",
     "output_type": "stream",
     "text": [
      "Коэффициент корреляции между полом клиента и количеством убытков: -0.03\n"
     ]
    }
   ],
   "source": [
    "halfsubset = balanced_df[['INSURER_GENDER', 'POLICY_CLM_N']]\n",
    "\n",
    "# Вычисление корреляционной матрицы для двух столбцов\n",
    "correlation_matrix = halfsubset.corr()\n",
    "\n",
    "# Вывод корреляционной матрицы\n",
    "print(\"Корреляционная матрица между INSURER_GENDER и POLICY_CLM_N:\")\n",
    "print(correlation_matrix)\n",
    "\n",
    "# Визуализация корреляционной матрицы\n",
    "plt.figure(figsize=(6, 4))\n",
    "sns.heatmap(correlation_matrix, annot=True, cmap='coolwarm', fmt='.2f', linewidths=0.5, cbar=False)\n",
    "plt.title('Корреляционная матрица между INSURER_GENDER и POLICY_CLM_N')\n",
    "plt.show()\n",
    "\n",
    "# Выделение коэффициента корреляции между полом и количеством убытков\n",
    "correlation_value = correlation_matrix.loc['INSURER_GENDER', 'POLICY_CLM_N']\n",
    "print(f\"Коэффициент корреляции между полом клиента и количеством убытков: {correlation_value:.2f}\")"
   ]
  },
  {
   "cell_type": "code",
   "execution_count": 28,
   "id": "7cee8881",
   "metadata": {},
   "outputs": [
    {
     "data": {
      "text/plain": [
       "-0.026658734200088324"
      ]
     },
     "execution_count": 28,
     "metadata": {},
     "output_type": "execute_result"
    }
   ],
   "source": [
    "correlation = halfsubset['INSURER_GENDER'].corr(halfsubset['POLICY_CLM_N'])\n",
    "correlation"
   ]
  },
  {
   "cell_type": "markdown",
   "id": "9eded75d",
   "metadata": {},
   "source": [
    "## Выводы\n",
    "   ### Частота ДТП:\n",
    "##### Несмотря на то, что на каждого застрахованного женского пола приходится почти 1.72 застрахованных мужского, в общей выборке женщины имеют меньшую частоту обращений за страховыми выплатами, а мужчины имеют больше случаев ДТП. Однако в нормированной выборке количество ДТП между полами выравнивается, и соотношение даже меняется в сторону женщин.\n",
    "   ### Виновность:\n",
    "##### Мужчины чаще являются виновниками ДТП, что проявляется в перевесе их случаев (2036 против 1334 у женщин) в общей выборке. Однако в нормированной выборке разница в виновности становится меньше (1198 случаев у мужчин против 1334 у женщин).\n",
    "   ### Обращение за выплатами:\n",
    "##### Женщины больше склонны к обращению за страховыми выплатами, что может свидетельствовать о большей активности в данной области по сравнению с мужчинами. В нормированной выборке этот показатель даже меняется в пользу женщин (52% против 48%).\n",
    "   ### Связь между полом и ДТП:\n",
    "##### Негативный коэффициент корреляции (-0.03) указывает на отсутствие значительной связи между полом клиента и количеством ДТП. Это может означать, что пол не является определяющим фактором в количестве аварий.\n",
    "   ### Заключение:\n",
    "##### Сравнивая данные из общей и нормированной выборок, можно отметить, что общее количество аварий среди мужчин выше, но в нормированной выборке женщины показывают большую активность по обращению за выплатами и по количеству виновных случаев. Таким образом, можно сказать, что статистически мужчины чаще попадают в ДТП, однако, среди застрахованных женщин наблюдается более высокая частота обращений за выплатами и уровне убытков в случае их участия в авариях. Это может указывать на различия в поведении на дороге и подход к страхованию между мужчинами и женщинами."
   ]
  },
  {
   "cell_type": "code",
   "execution_count": null,
   "id": "925c4233",
   "metadata": {},
   "outputs": [],
   "source": []
  }
 ],
 "metadata": {
  "kernelspec": {
   "display_name": "Python 3 (ipykernel)",
   "language": "python",
   "name": "python3"
  },
  "language_info": {
   "codemirror_mode": {
    "name": "ipython",
    "version": 3
   },
   "file_extension": ".py",
   "mimetype": "text/x-python",
   "name": "python",
   "nbconvert_exporter": "python",
   "pygments_lexer": "ipython3",
   "version": "3.11.7"
  }
 },
 "nbformat": 4,
 "nbformat_minor": 5
}
